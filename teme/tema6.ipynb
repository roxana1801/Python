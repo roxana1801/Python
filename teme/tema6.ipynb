{
 "cells": [
  {
   "cell_type": "code",
   "execution_count": 1,
   "id": "7e097f50",
   "metadata": {},
   "outputs": [],
   "source": [
    "#1. \n",
    "#Clasa Cerc\n",
    "#Atribute: raza, culoare\n",
    "#Constructor pt ambele atribute\n",
    "#Metode:\n",
    "#descrie_cerc() - va PRINTA culoarea si raza\n",
    "#aria() - va RETURNA aria \n",
    "#diametru() \n",
    "#circumferinta()\n"
   ]
  },
  {
   "cell_type": "code",
   "execution_count": 118,
   "id": "29f13491",
   "metadata": {},
   "outputs": [],
   "source": [
    "from math import pi\n",
    "class cerc:\n",
    "    def __init__(self,raza,culoare):\n",
    "        self.raza = raza\n",
    "        self.culoare = culoare\n",
    "    \n",
    "    def descrie_cerc(self):\n",
    "        print(f\"Raza cercului este {self.raza} si culoarea este {self.culoare}\")\n",
    "        \n",
    "    def aria(self):\n",
    "        return pi * self.raza**2\n",
    "    \n",
    "    def diametru(self):\n",
    "        return 2 * self.raza\n",
    "    \n",
    "    def circumferinta(self):\n",
    "        return 2 * pi * self.raza\n",
    "    \n",
    "\n",
    "c1 = cerc(5, 'galben');\n",
    "\n"
   ]
  },
  {
   "cell_type": "code",
   "execution_count": 119,
   "id": "760b4c92",
   "metadata": {},
   "outputs": [],
   "source": [
    "c2=cerc(9,'galben');"
   ]
  },
  {
   "cell_type": "code",
   "execution_count": 120,
   "id": "7ac0332a",
   "metadata": {},
   "outputs": [
    {
     "data": {
      "text/plain": [
       "18"
      ]
     },
     "execution_count": 120,
     "metadata": {},
     "output_type": "execute_result"
    }
   ],
   "source": [
    "c2.diametru()"
   ]
  },
  {
   "cell_type": "code",
   "execution_count": 121,
   "id": "dff6bb95",
   "metadata": {},
   "outputs": [
    {
     "data": {
      "text/plain": [
       "254.46900494077323"
      ]
     },
     "execution_count": 121,
     "metadata": {},
     "output_type": "execute_result"
    }
   ],
   "source": [
    "c2.aria()"
   ]
  },
  {
   "cell_type": "code",
   "execution_count": 113,
   "id": "53471af5",
   "metadata": {},
   "outputs": [],
   "source": [
    "#Clasa Dreptunghi\n",
    "#Atribute: lungime, latime, culoare\n",
    "#Constructor pt toate atributele\n",
    "#Metode:\n",
    "#descrie()\n",
    "#aria()\n",
    "#perimetrul()\n",
    "#schimba_culoarea(noua_culoare) - aceasta metoda nu returneaza nimic. Ea va lua ca si param o noua culoare si va suprascrie atributul self.culoare. Puteti verifica schimbarea culorii prin apelarea metodei descrie().\n"
   ]
  },
  {
   "cell_type": "code",
   "execution_count": 23,
   "id": "171b0f0d",
   "metadata": {},
   "outputs": [],
   "source": [
    "class dreptunghi:\n",
    "    def __init__(self,lungime,latime,culoare):\n",
    "        self.lungime=lungime\n",
    "        self.latime=latime\n",
    "        self.culoare=culoare\n",
    "    def descriere(self):\n",
    "        print(f\"Dreptunghiul are lunghimea {self.lungime} ,latimea {self.latime} iar culoarea este {self.culoare}\");\n",
    "    def aria(self):\n",
    "        aria=self.lungime*self.latime;\n",
    "        return aria;\n",
    "    def perimetrul(self):\n",
    "              return self.latime*self.lungime;\n",
    "    def shimba_culoarea(self,culoare_noua):\n",
    "              self.culoare=culoare_noua;\n",
    "        "
   ]
  },
  {
   "cell_type": "code",
   "execution_count": 20,
   "id": "0231ad69",
   "metadata": {},
   "outputs": [],
   "source": [
    "d=dreptunghi(4,7,'rosu')"
   ]
  },
  {
   "cell_type": "code",
   "execution_count": 24,
   "id": "fb289faf",
   "metadata": {},
   "outputs": [
    {
     "name": "stdout",
     "output_type": "stream",
     "text": [
      "Dreptunghiul are lunghimea4 ,latimea 7 iar culoarea este rosu\n"
     ]
    }
   ],
   "source": [
    "d.descriere()"
   ]
  },
  {
   "cell_type": "code",
   "execution_count": 5,
   "id": "6fe16fac",
   "metadata": {},
   "outputs": [
    {
     "data": {
      "text/plain": [
       "3"
      ]
     },
     "execution_count": 5,
     "metadata": {},
     "output_type": "execute_result"
    }
   ],
   "source": [
    "11//3"
   ]
  },
  {
   "cell_type": "code",
   "execution_count": 25,
   "id": "54d237d9",
   "metadata": {},
   "outputs": [
    {
     "data": {
      "text/plain": [
       "28"
      ]
     },
     "execution_count": 25,
     "metadata": {},
     "output_type": "execute_result"
    }
   ],
   "source": [
    "d.aria()"
   ]
  },
  {
   "cell_type": "code",
   "execution_count": 3,
   "id": "264f863a",
   "metadata": {},
   "outputs": [
    {
     "ename": "NameError",
     "evalue": "name 'd' is not defined",
     "output_type": "error",
     "traceback": [
      "\u001b[1;31m---------------------------------------------------------------------------\u001b[0m",
      "\u001b[1;31mNameError\u001b[0m                                 Traceback (most recent call last)",
      "Cell \u001b[1;32mIn [3], line 1\u001b[0m\n\u001b[1;32m----> 1\u001b[0m \u001b[38;5;28mprint\u001b[39m(\u001b[43md\u001b[49m\u001b[38;5;241m.\u001b[39mculoarea)\n",
      "\u001b[1;31mNameError\u001b[0m: name 'd' is not defined"
     ]
    }
   ],
   "source": [
    "print(d.culoarea);\n"
   ]
  },
  {
   "cell_type": "code",
   "execution_count": 2,
   "id": "c23d6a26",
   "metadata": {},
   "outputs": [
    {
     "ename": "NameError",
     "evalue": "name 'd' is not defined",
     "output_type": "error",
     "traceback": [
      "\u001b[1;31m---------------------------------------------------------------------------\u001b[0m",
      "\u001b[1;31mNameError\u001b[0m                                 Traceback (most recent call last)",
      "Cell \u001b[1;32mIn [2], line 1\u001b[0m\n\u001b[1;32m----> 1\u001b[0m \u001b[38;5;28mprint\u001b[39m(\u001b[43md\u001b[49m\u001b[38;5;241m.\u001b[39mculoare)\n",
      "\u001b[1;31mNameError\u001b[0m: name 'd' is not defined"
     ]
    }
   ],
   "source": [
    "print(d.culoare)"
   ]
  },
  {
   "cell_type": "code",
   "execution_count": 33,
   "id": "d286d2fc",
   "metadata": {},
   "outputs": [],
   "source": [
    "# 3. Clasa Angajat\n",
    "# Atribute: nume, prenume, salariu\n",
    "# Constructor pt toate atributele\n",
    "# Metode:\n",
    "# descrie()\n",
    "# nume_complet()\n",
    "# salariu_lunar()\n",
    "# salariu_anual()\n",
    "# marire_salariu(procent)"
   ]
  },
  {
   "cell_type": "code",
   "execution_count": 101,
   "id": "bd807e3b",
   "metadata": {},
   "outputs": [],
   "source": [
    "class angajat:\n",
    "    def __init__(self, nume, prenume, salariu):\n",
    "        self.nume=nume;\n",
    "        self.prenume=prenume;\n",
    "        self.salariu=salariu;\n",
    "    def descriere_angajat(self):\n",
    "            print(f\" Angajatul are numele {self.nume}, prenumele {self.prenume} iar salariul lui este : {self.salariu}\")\n",
    "    def numecomplet(self):\n",
    "            print(f\"Angajatul are numele {self.nume} {self.prenume}\");\n",
    "    def salariulunar(self):\n",
    "            print(f\"Angajatul are salariul {self.salariu}\");\n",
    "    def salariuanual(self):\n",
    "            print(f\"Angajatul are salariul anual de {self.salariu}*12 \");\n",
    "    def mariresalariu(self,procent):\n",
    "             self.salariu=self.salariu*procent/100+self.salariu;"
   ]
  },
  {
   "cell_type": "code",
   "execution_count": 102,
   "id": "2b7aeffb",
   "metadata": {},
   "outputs": [],
   "source": [
    "a= angajat(\"andrei\", \"radu\", 5000)"
   ]
  },
  {
   "cell_type": "code",
   "execution_count": 103,
   "id": "cb8d6cb4",
   "metadata": {},
   "outputs": [
    {
     "name": "stdout",
     "output_type": "stream",
     "text": [
      " Angajatul are numele andrei, prenumele radu iar salariul lui este : 5000\n"
     ]
    }
   ],
   "source": [
    "a.descriere_angajat()"
   ]
  },
  {
   "cell_type": "code",
   "execution_count": 105,
   "id": "d208d56d",
   "metadata": {},
   "outputs": [],
   "source": [
    "a.mariresalariu(20)"
   ]
  },
  {
   "cell_type": "code",
   "execution_count": 54,
   "id": "9e202edf",
   "metadata": {},
   "outputs": [
    {
     "name": "stdout",
     "output_type": "stream",
     "text": [
      "Angajatul are numele andrei radu\n"
     ]
    }
   ],
   "source": [
    "a.numecomplet()"
   ]
  },
  {
   "cell_type": "code",
   "execution_count": 60,
   "id": "92830406",
   "metadata": {},
   "outputs": [],
   "source": [
    "a.mariresalariu(10)"
   ]
  },
  {
   "cell_type": "code",
   "execution_count": 62,
   "id": "efdaec57",
   "metadata": {},
   "outputs": [
    {
     "name": "stdout",
     "output_type": "stream",
     "text": [
      " Angajatul are numele andrei, prenumele radu iar salariul lui este : 605000\n"
     ]
    }
   ],
   "source": [
    "a.descriere_angajat()"
   ]
  },
  {
   "cell_type": "code",
   "execution_count": 106,
   "id": "748f26ae",
   "metadata": {},
   "outputs": [],
   "source": [
    "a.mariresalariu(10)"
   ]
  },
  {
   "cell_type": "code",
   "execution_count": 107,
   "id": "5b040f17",
   "metadata": {},
   "outputs": [
    {
     "name": "stdout",
     "output_type": "stream",
     "text": [
      " Angajatul are numele andrei, prenumele radu iar salariul lui este : 6600.0\n"
     ]
    }
   ],
   "source": [
    "a.descriere_angajat()"
   ]
  },
  {
   "cell_type": "code",
   "execution_count": 109,
   "id": "e2024c1f",
   "metadata": {},
   "outputs": [
    {
     "name": "stdout",
     "output_type": "stream",
     "text": [
      " Angajatul are numele andrei, prenumele radu iar salariul lui este : 6600.0\n"
     ]
    }
   ],
   "source": [
    "a.descriere_angajat()"
   ]
  },
  {
   "cell_type": "code",
   "execution_count": 65,
   "id": "90cf0b35",
   "metadata": {},
   "outputs": [],
   "source": [
    "#Clasa Cont\n",
    "#Atribute: iban, titular_cont, sold\n",
    "#Constructor pentru toate\n",
    "#Metode:\n",
    "#afisare_sold() - Titularul x are in contul y suma de n lei\n",
    "#debitare_cont(suma)\n",
    "#creditare_cont(suma)\n"
   ]
  },
  {
   "cell_type": "code",
   "execution_count": null,
   "id": "d82515cf",
   "metadata": {},
   "outputs": [],
   "source": []
  },
  {
   "cell_type": "code",
   "execution_count": 93,
   "id": "6dcd71b5",
   "metadata": {},
   "outputs": [],
   "source": [
    "class cont:\n",
    "    def __init__(self,iban,titular_cont,sold):\n",
    "        self.iban=iban;\n",
    "        self.titular=titular_cont;\n",
    "        self.sold=sold;\n",
    "    def sumacont(self):\n",
    "        print(f\"Pentru ibanul {self.iban}, al titularului {self.titular} soldul este {self.sold}\");\n",
    "    def debitare_cont(self,suma):\n",
    "        self.sold=self.sold,suma;\n",
    "    def creditare_sold(self,suma):\n",
    "        if suma>self.sold:\n",
    "            print (f\"fonduri insuficiente\");\n",
    "        else:\n",
    "            self.sold-=suma;\n",
    "            print(f\"Soldul ramas este: {self.sold}\");\n",
    "                  \n",
    "    "
   ]
  },
  {
   "cell_type": "code",
   "execution_count": 94,
   "id": "860960a9",
   "metadata": {},
   "outputs": [],
   "source": [
    "x=cont(124568, \"andrei\",1000)"
   ]
  },
  {
   "cell_type": "code",
   "execution_count": 95,
   "id": "e54f1636",
   "metadata": {},
   "outputs": [
    {
     "name": "stdout",
     "output_type": "stream",
     "text": [
      "Pentru ibanul 124568, al titularului andrei soldul este 1000\n"
     ]
    }
   ],
   "source": [
    "x.sumacont()"
   ]
  },
  {
   "cell_type": "code",
   "execution_count": 98,
   "id": "12b577cb",
   "metadata": {},
   "outputs": [
    {
     "name": "stdout",
     "output_type": "stream",
     "text": [
      "Soldul ramas este: 990\n"
     ]
    }
   ],
   "source": [
    "x.creditare_sold(10)"
   ]
  },
  {
   "cell_type": "code",
   "execution_count": 100,
   "id": "89314a36",
   "metadata": {},
   "outputs": [],
   "source": [
    "x.debitare_cont(200)"
   ]
  },
  {
   "cell_type": "code",
   "execution_count": null,
   "id": "3c8ff65e",
   "metadata": {},
   "outputs": [],
   "source": []
  }
 ],
 "metadata": {
  "kernelspec": {
   "display_name": "Python 3 (ipykernel)",
   "language": "python",
   "name": "python3"
  },
  "language_info": {
   "codemirror_mode": {
    "name": "ipython",
    "version": 3
   },
   "file_extension": ".py",
   "mimetype": "text/x-python",
   "name": "python",
   "nbconvert_exporter": "python",
   "pygments_lexer": "ipython3",
   "version": "3.10.7"
  }
 },
 "nbformat": 4,
 "nbformat_minor": 5
}
