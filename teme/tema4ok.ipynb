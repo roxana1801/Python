{
 "cells": [
  {
   "cell_type": "code",
   "execution_count": 1,
   "id": "99b1c72e",
   "metadata": {},
   "outputs": [],
   "source": [
    "#Avand lista \n",
    "#masini = ['Audi', 'Volvo', 'BMW', 'Mercedes', 'Aston Martin', 'Lastun', 'Fiat', 'T rabant', 'Opel']\n",
    "\n",
    "#a)\tFolositi un for ca sa iterati prin toata lista cu ajutorul indexilor si sa afisati\n",
    "#‘Masina mea preferata este x’\n",
    "#b)\tFaceti acelasi lucru cu un for each\n",
    "#c)\tFaceti acelasi lucru cu un while\n"
   ]
  },
  {
   "cell_type": "code",
   "execution_count": 3,
   "id": "061fed2e",
   "metadata": {},
   "outputs": [
    {
     "name": "stdout",
     "output_type": "stream",
     "text": [
      "Masina mea preferata este Audi\n",
      "Masina mea preferata este Volvo\n",
      "Masina mea preferata este BMW\n",
      "Masina mea preferata este Mercedes\n",
      "Masina mea preferata este Aston Martin\n",
      "Masina mea preferata este Lastun\n",
      "Masina mea preferata este Fiat\n",
      "Masina mea preferata este T rabant\n",
      "Masina mea preferata este Opel\n"
     ]
    }
   ],
   "source": [
    "masini = ['Audi', 'Volvo', 'BMW', 'Mercedes', 'Aston Martin', 'Lastun', 'Fiat', 'T rabant', 'Opel']\n",
    "for masina in masini:\n",
    "    print(f'Masina mea preferata este {masina}')"
   ]
  },
  {
   "cell_type": "code",
   "execution_count": 5,
   "id": "f6e940c0",
   "metadata": {},
   "outputs": [
    {
     "name": "stdout",
     "output_type": "stream",
     "text": [
      "0 masina mea preferata este Audi\n",
      "1 masina mea preferata este Volvo\n",
      "2 masina mea preferata este BMW\n",
      "3 masina mea preferata este Mercedes\n",
      "4 masina mea preferata este Aston Martin\n",
      "5 masina mea preferata este Lastun\n",
      "6 masina mea preferata este Fiat\n",
      "7 masina mea preferata este T rabant\n",
      "8 masina mea preferata este Opel\n"
     ]
    }
   ],
   "source": [
    "for i in range(len(masini)):\n",
    "    print(f'{i} masina mea preferata este {masini[i]}')"
   ]
  },
  {
   "cell_type": "code",
   "execution_count": 29,
   "id": "2f2e6e59",
   "metadata": {},
   "outputs": [
    {
     "name": "stdout",
     "output_type": "stream",
     "text": [
      "0 Masina mea preferata este Audi\n",
      "1 Masina mea preferata este Volvo\n",
      "2 Masina mea preferata este BMW\n",
      "3 Masina mea preferata este Mercedes\n",
      "4 Masina mea preferata este Aston Martin\n",
      "5 Masina mea preferata este Lastun\n",
      "6 Masina mea preferata este Fiat\n",
      "7 Masina mea preferata este T rabant\n",
      "8 Masina mea preferata este Opel\n",
      "lista s-a terminat\n"
     ]
    }
   ],
   "source": [
    "masini = ['Audi', 'Volvo', 'BMW', 'Mercedes', 'Aston Martin', 'Lastun', 'Fiat', 'T rabant', 'Opel'];\n",
    "i=0;\n",
    "while i<=len(masini)-1:\n",
    "    print (f'{i} Masina mea preferata este {masini[i]}')\n",
    "    i+=1;\n",
    "else:\n",
    "    print('lista s-a terminat')"
   ]
  },
  {
   "cell_type": "code",
   "execution_count": 22,
   "id": "fc98e0a1",
   "metadata": {},
   "outputs": [],
   "source": [
    "#2.\n",
    "#Aceeasi lista\n",
    "#Folositi un for in for\n",
    " #  Modificati elementele din lista astfel incat sa fie scrie cu majuscule, exceptand primul si ultimul (v1 - caracter, v2 - element)\n",
    "#Printati varianta finala a listei\n",
    "#Incercati sa rezolvati atat v1 => output: ['aUDi', 'vOLVo', 'bMw', 'mERCEDEs', 'aSTON MARTIn', 'lASTUn', 'fIAt', 'tRABANt', 'oPEl']\n",
    "#Cat si v2 => output: ['audi', 'VOLVO', 'BMW', 'MERCEDES', 'ASTON MARTIN', 'LASTUN', 'FIAT', 'TRABANT', 'opel']\n"
   ]
  },
  {
   "cell_type": "code",
   "execution_count": 27,
   "id": "a7a46b03",
   "metadata": {},
   "outputs": [],
   "source": [
    "#3. \n",
    "#Aceeasi lista, \n",
    "#Vine un cumparator care doreste sa cumpere un Mercedes\n",
    "#Iterati prin ea cu for\n",
    "#Daca masina e mercedes (if)\n",
    " #  Printam ‘am gasit masina dorita de dvs’\n",
    "  # Iesim din ciclu folosind un cuvant cheie care face acest lucru\n",
    "#Altfel:   \n",
    " #  Printam Am gasit masina X. Mai cautam\t\n"
   ]
  },
  {
   "cell_type": "code",
   "execution_count": 28,
   "id": "009e0971",
   "metadata": {},
   "outputs": [
    {
     "data": {
      "text/plain": [
       "9"
      ]
     },
     "execution_count": 28,
     "metadata": {},
     "output_type": "execute_result"
    }
   ],
   "source": [
    "\n",
    "len(masini\n",
    "   )"
   ]
  },
  {
   "cell_type": "code",
   "execution_count": 33,
   "id": "b4b9389a",
   "metadata": {},
   "outputs": [
    {
     "name": "stdout",
     "output_type": "stream",
     "text": [
      "Am gasit masina Audi . Mai cautam\n",
      "Am gasit masina Volvo . Mai cautam\n",
      "Am gasit masina BMW . Mai cautam\n",
      "am gasit masina dorita\n"
     ]
    }
   ],
   "source": [
    "masini = ['Audi', 'Volvo', 'BMW', 'Mercedes', 'Aston Martin', 'Lastun', 'Fiat', 'T rabant', 'Opel'];\n",
    "for masina in masini:\n",
    "    if masina=='Mercedes':\n",
    "        print(\"am gasit masina dorita\");\n",
    "        break\n",
    "    else:\n",
    "            print(f\"Am gasit masina {masina} . Mai cautam\")"
   ]
  },
  {
   "cell_type": "code",
   "execution_count": 34,
   "id": "731c2139",
   "metadata": {},
   "outputs": [],
   "source": [
    "#4.\n",
    "#Aceasi lista\n",
    "#Vine un cumparator bogat dar indecis. Ii vom prezenta toate masinile cu exceptia Trabant si Lastun. \n",
    "#Daca masina e Trabant sau Lastun\n",
    "#   Folositi un cuvant cheie care sa dea skip la ce urmeaza\n",
    "#Printati S-ar putea sa va placa masina x\n"
   ]
  },
  {
   "cell_type": "code",
   "execution_count": 49,
   "id": "6d553a7e",
   "metadata": {},
   "outputs": [
    {
     "name": "stdout",
     "output_type": "stream",
     "text": [
      "S-ar putea sa va placa masina Audi\n",
      "S-ar putea sa va placa masina Volvo\n",
      "S-ar putea sa va placa masina BMW\n",
      "S-ar putea sa va placa masina Mercedes\n",
      "S-ar putea sa va placa masina Aston Martin\n"
     ]
    }
   ],
   "source": [
    "masini = ['Audi', 'Volvo', 'BMW', 'Mercedes', 'Aston Martin', 'Lastun', 'Fiat', 'Trabant', 'Opel'];\n",
    "for masina in masini:\n",
    "    if masina in ('Trabant','Lastun'):\n",
    "         break;\n",
    "    else:\n",
    "        print(f\"S-ar putea sa va placa masina {masina}\")"
   ]
  },
  {
   "cell_type": "code",
   "execution_count": 50,
   "id": "fb8c2c29",
   "metadata": {},
   "outputs": [],
   "source": [
    "#5. \n",
    "#Modernizati parcul de masini\n",
    "#Creati o lista goala, masini_vechi\n",
    "#Iterati prin masini\n",
    "#Cand gasiti Lastun sau Trabant:\n",
    "#-\tSalvati aceste masini in masini_vechi\n",
    "#-\tSuprascrieti-le cu ‘Tesla’ (in lista initiala de masini)\n",
    "#Printati Modele vechi: x\n",
    "#Modele noi: x\n"
   ]
  },
  {
   "cell_type": "code",
   "execution_count": 73,
   "id": "9ccc3adf",
   "metadata": {},
   "outputs": [
    {
     "ename": "KeyboardInterrupt",
     "evalue": "",
     "output_type": "error",
     "traceback": [
      "\u001b[1;31m---------------------------------------------------------------------------\u001b[0m",
      "\u001b[1;31mKeyboardInterrupt\u001b[0m                         Traceback (most recent call last)",
      "Cell \u001b[1;32mIn [73], line 4\u001b[0m\n\u001b[0;32m      2\u001b[0m masini \u001b[38;5;241m=\u001b[39m [\u001b[38;5;124m'\u001b[39m\u001b[38;5;124mAudi\u001b[39m\u001b[38;5;124m'\u001b[39m, \u001b[38;5;124m'\u001b[39m\u001b[38;5;124mVolvo\u001b[39m\u001b[38;5;124m'\u001b[39m, \u001b[38;5;124m'\u001b[39m\u001b[38;5;124mBMW\u001b[39m\u001b[38;5;124m'\u001b[39m, \u001b[38;5;124m'\u001b[39m\u001b[38;5;124mMercedes\u001b[39m\u001b[38;5;124m'\u001b[39m, \u001b[38;5;124m'\u001b[39m\u001b[38;5;124mAston Martin\u001b[39m\u001b[38;5;124m'\u001b[39m, \u001b[38;5;124m'\u001b[39m\u001b[38;5;124mLastun\u001b[39m\u001b[38;5;124m'\u001b[39m, \u001b[38;5;124m'\u001b[39m\u001b[38;5;124mFiat\u001b[39m\u001b[38;5;124m'\u001b[39m, \u001b[38;5;124m'\u001b[39m\u001b[38;5;124mTrabant\u001b[39m\u001b[38;5;124m'\u001b[39m, \u001b[38;5;124m'\u001b[39m\u001b[38;5;124mOpel\u001b[39m\u001b[38;5;124m'\u001b[39m];\n\u001b[0;32m      3\u001b[0m i\u001b[38;5;241m=\u001b[39m\u001b[38;5;241m0\u001b[39m;\n\u001b[1;32m----> 4\u001b[0m \u001b[38;5;28;01mwhile\u001b[39;00m \u001b[43mi\u001b[49m\u001b[38;5;241;43m<\u001b[39;49m\u001b[38;5;241;43m=\u001b[39;49m\u001b[38;5;28;43mlen\u001b[39;49m\u001b[43m(\u001b[49m\u001b[43mmasini\u001b[49m\u001b[43m)\u001b[49m\u001b[38;5;241;43m-\u001b[39;49m\u001b[38;5;241;43m1\u001b[39;49m:\n\u001b[0;32m      5\u001b[0m     \u001b[38;5;28;01mif\u001b[39;00m masini [i] \u001b[38;5;129;01min\u001b[39;00m (\u001b[38;5;124m'\u001b[39m\u001b[38;5;124mTrabant\u001b[39m\u001b[38;5;124m'\u001b[39m, \u001b[38;5;124m\"\u001b[39m\u001b[38;5;124mLastun\u001b[39m\u001b[38;5;124m\"\u001b[39m):\n\u001b[0;32m      6\u001b[0m         masini_vechi\u001b[38;5;241m==\u001b[39mmasini_vechi\u001b[38;5;241m.\u001b[39mappend(masini[i]);\n",
      "\u001b[1;31mKeyboardInterrupt\u001b[0m: "
     ]
    }
   ],
   "source": [
    "masini_vechi=[];\n",
    "masini = ['Audi', 'Volvo', 'BMW', 'Mercedes', 'Aston Martin', 'Lastun', 'Fiat', 'Trabant', 'Opel'];\n",
    "i=0;\n",
    "while i<=len(masini)-1:\n",
    "    if masini [i] in ('Trabant', \"Lastun\"):\n",
    "        masini_vechi==masini_vechi.append(masini[i]);\n",
    "        masini[i]=\"Tesla\"\n",
    "        "
   ]
  },
  {
   "cell_type": "code",
   "execution_count": 75,
   "id": "5596c92a",
   "metadata": {},
   "outputs": [],
   "source": [
    "#6. \n",
    "#Avand dict\n",
    "#pret_masini = {\n",
    "#    'Dacia': 6800,\n",
    " #   'Lastun': 500,\n",
    "  #  'Opel': 1100,\n",
    "   # 'Audi': 19000,\n",
    "    #'BMW': 23000\n",
    "#}\n",
    "#Vine un client cu un buget de 15000 euro\n",
    "#Prezentati doar masinile care se incadreaza in acest buget\n",
    "#Iterati prin dict.items() si accesati masina si pretul\n",
    "#Printati Pentru un buget de sub 15000 euro puteti alege masina x\n",
    "#Iterati prin lista '''\n",
    "    \n"
   ]
  },
  {
   "cell_type": "code",
   "execution_count": 76,
   "id": "250937f4",
   "metadata": {},
   "outputs": [],
   "source": [
    "pret_masini = {\n",
    "'Dacia': 6800,\n",
    "'Lastun': 500,\n",
    "'Opel': 1100,\n",
    "'Audi': 19000,\n",
    "'BMW': 23000};\n"
   ]
  },
  {
   "cell_type": "code",
   "execution_count": 77,
   "id": "5994dab0",
   "metadata": {},
   "outputs": [
    {
     "name": "stdout",
     "output_type": "stream",
     "text": [
      "Cheia: Dacia cu valoarea 6800\n",
      "Cheia: Lastun cu valoarea 500\n",
      "Cheia: Opel cu valoarea 1100\n",
      "Cheia: Audi cu valoarea 19000\n",
      "Cheia: BMW cu valoarea 23000\n"
     ]
    }
   ],
   "source": [
    "for key in pret_masini:\n",
    "    print(f\"Cheia: {key} cu valoarea {pret_masini[key]}\")"
   ]
  },
  {
   "cell_type": "code",
   "execution_count": 80,
   "id": "16a4ad14",
   "metadata": {},
   "outputs": [
    {
     "name": "stdout",
     "output_type": "stream",
     "text": [
      "('Dacia', 6800)\n",
      "('Lastun', 500)\n",
      "('Opel', 1100)\n",
      "('Audi', 19000)\n",
      "('BMW', 23000)\n"
     ]
    }
   ],
   "source": [
    "for item in pret_masini.items():\n",
    "    print(item) "
   ]
  },
  {
   "cell_type": "code",
   "execution_count": 81,
   "id": "3f9e86ec",
   "metadata": {},
   "outputs": [],
   "source": [
    "#7.\n",
    "#Avand lista\n",
    "#numere = [5, 7, 3, 9, 3, 3, 1, 0, -4, 3]\n",
    "#Iterati prin ea\n",
    "#Afisati de cate ori apare 3\n"
   ]
  },
  {
   "cell_type": "code",
   "execution_count": 82,
   "id": "88334f46",
   "metadata": {},
   "outputs": [],
   "source": [
    "numere = [5, 7, 3, 9, 3, 3, 1, 0, -4, 3];"
   ]
  },
  {
   "cell_type": "code",
   "execution_count": 87,
   "id": "dac430fd",
   "metadata": {},
   "outputs": [
    {
     "name": "stdout",
     "output_type": "stream",
     "text": [
      " nr este 5\n",
      " nr este 7\n",
      " nr este 3\n",
      " nr este 9\n",
      " nr este 3\n",
      " nr este 3\n",
      " nr este 1\n",
      " nr este 0\n",
      " nr este -4\n",
      " nr este 3\n",
      " Trei apare de 4  ori\n"
     ]
    }
   ],
   "source": [
    "x=0;\n",
    "for i in numere:\n",
    "    print(f' nr este {i}');\n",
    "    if i==3:\n",
    "        x+=1;\n",
    "print(f' Trei apare de {x}  ori')\n"
   ]
  },
  {
   "cell_type": "code",
   "execution_count": 88,
   "id": "b8157a50",
   "metadata": {},
   "outputs": [],
   "source": [
    "#8. \n",
    "#Aceeasi lista\n",
    "#Iterati prin ea\n",
    "#Calculati si afisati suma numerelor\n",
    "#(nu aveti voie sa folositi sum)\n"
   ]
  },
  {
   "cell_type": "code",
   "execution_count": 90,
   "id": "94698f47",
   "metadata": {},
   "outputs": [
    {
     "name": "stdout",
     "output_type": "stream",
     "text": [
      " nr este 5\n",
      " nr este 7\n",
      " nr este 3\n",
      " nr este 9\n",
      " nr este 3\n",
      " nr este 3\n",
      " nr este 1\n",
      " nr este 0\n",
      " nr este -4\n",
      " nr este 3\n",
      "Suma numerelor este 30\n"
     ]
    }
   ],
   "source": [
    "numere = [5, 7, 3, 9, 3, 3, 1, 0, -4, 3];\n",
    "x=0;\n",
    "for i in numere:\n",
    "    print(f' nr este {i}');\n",
    "    x=x+i;\n",
    "print(f'Suma numerelor este {x}')    "
   ]
  },
  {
   "cell_type": "code",
   "execution_count": 91,
   "id": "8dc435ca",
   "metadata": {},
   "outputs": [],
   "source": [
    "#9. \n",
    "#Aceeasi lista\n",
    "#Iterati prin ea\n",
    "#Afisati cel mai mare numar\n",
    "#(nu aveti voie sa folositi max)\n"
   ]
  },
  {
   "cell_type": "code",
   "execution_count": 92,
   "id": "4d6a1051",
   "metadata": {},
   "outputs": [
    {
     "name": "stdout",
     "output_type": "stream",
     "text": [
      "9\n"
     ]
    }
   ],
   "source": [
    "numere = [5, 7, 3, 9, 3, 3, 1, 0, -4, 3];\n",
    "x=numere[0];\n",
    "for i in numere:\n",
    "    if numere[i]>x :\n",
    "        x=numere[i]\n",
    "print(x)        "
   ]
  },
  {
   "cell_type": "code",
   "execution_count": 93,
   "id": "380febea",
   "metadata": {},
   "outputs": [],
   "source": [
    "#10.\n",
    "#Aceeasi lista\n",
    "#Iterati prin ea\n",
    "#Daca numarul e pozitiv, inlocuiti-l cu valoarea lui negativa\n",
    "#Ex: daca e 3, sa devina -3\n",
    "#Afisati noua lista\n"
   ]
  },
  {
   "cell_type": "code",
   "execution_count": 99,
   "id": "7fe06a33",
   "metadata": {},
   "outputs": [
    {
     "ename": "IndentationError",
     "evalue": "expected an indented block after 'if' statement on line 3 (138993725.py, line 4)",
     "output_type": "error",
     "traceback": [
      "\u001b[1;36m  Cell \u001b[1;32mIn [99], line 4\u001b[1;36m\u001b[0m\n\u001b[1;33m    print(i)\u001b[0m\n\u001b[1;37m    ^\u001b[0m\n\u001b[1;31mIndentationError\u001b[0m\u001b[1;31m:\u001b[0m expected an indented block after 'if' statement on line 3\n"
     ]
    }
   ],
   "source": [
    "numere = [5, 7, 3, 9, 3, 3, 1, 0, -4, 3];\n",
    "for i in numere:\n",
    "    if i>0:\n",
    "    print(i)"
   ]
  },
  {
   "cell_type": "code",
   "execution_count": 96,
   "id": "a16ad16a",
   "metadata": {},
   "outputs": [
    {
     "data": {
      "text/plain": [
       "False"
      ]
     },
     "execution_count": 96,
     "metadata": {},
     "output_type": "execute_result"
    }
   ],
   "source": [
    "not(3)"
   ]
  },
  {
   "cell_type": "code",
   "execution_count": null,
   "id": "d54d828e",
   "metadata": {},
   "outputs": [],
   "source": []
  }
 ],
 "metadata": {
  "kernelspec": {
   "display_name": "Python 3 (ipykernel)",
   "language": "python",
   "name": "python3"
  },
  "language_info": {
   "codemirror_mode": {
    "name": "ipython",
    "version": 3
   },
   "file_extension": ".py",
   "mimetype": "text/x-python",
   "name": "python",
   "nbconvert_exporter": "python",
   "pygments_lexer": "ipython3",
   "version": "3.10.7"
  }
 },
 "nbformat": 4,
 "nbformat_minor": 5
}
