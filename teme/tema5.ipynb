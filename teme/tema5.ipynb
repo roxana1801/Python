{
 "cells": [
  {
   "cell_type": "code",
   "execution_count": 1,
   "id": "28afc2f5",
   "metadata": {},
   "outputs": [],
   "source": [
    "#1. Functie care sa calculeze si sa returneze suma a 2 numere"
   ]
  },
  {
   "cell_type": "code",
   "execution_count": 2,
   "id": "6f2c2fd0",
   "metadata": {},
   "outputs": [],
   "source": [
    "def suma2(x1,x2):\n",
    "    return x1+x2;"
   ]
  },
  {
   "cell_type": "code",
   "execution_count": 4,
   "id": "e30371d1",
   "metadata": {},
   "outputs": [
    {
     "data": {
      "text/plain": [
       "105"
      ]
     },
     "execution_count": 4,
     "metadata": {},
     "output_type": "execute_result"
    }
   ],
   "source": [
    "suma2(7,98)"
   ]
  },
  {
   "cell_type": "code",
   "execution_count": 5,
   "id": "8632b0d3",
   "metadata": {},
   "outputs": [],
   "source": [
    "#2. Functie care sa returneze TRUE daca un numar este par, FALSE pt impar"
   ]
  },
  {
   "cell_type": "code",
   "execution_count": 11,
   "id": "4d914c4b",
   "metadata": {},
   "outputs": [],
   "source": [
    "def nrpar(x):\n",
    " if x%2==0:\n",
    "    print(\"TRUE\")\n",
    " else:\n",
    "    print(\"FALSE\")"
   ]
  },
  {
   "cell_type": "code",
   "execution_count": 12,
   "id": "4ed2f7f7",
   "metadata": {},
   "outputs": [
    {
     "name": "stdout",
     "output_type": "stream",
     "text": [
      "TRUE\n"
     ]
    }
   ],
   "source": [
    "nrpar(56)"
   ]
  },
  {
   "cell_type": "code",
   "execution_count": 13,
   "id": "b3a389e7",
   "metadata": {},
   "outputs": [
    {
     "name": "stdout",
     "output_type": "stream",
     "text": [
      "FALSE\n"
     ]
    }
   ],
   "source": [
    "nrpar(9)"
   ]
  },
  {
   "cell_type": "code",
   "execution_count": 14,
   "id": "cb8338c4",
   "metadata": {},
   "outputs": [],
   "source": [
    "#3. Functie care returneaza numarul total de caractere din numele tau complet.\n",
    "#(nume, prenume, nume_mijlociu) \n"
   ]
  },
  {
   "cell_type": "code",
   "execution_count": 20,
   "id": "bbd9ecc4",
   "metadata": {},
   "outputs": [],
   "source": [
    "def nr_caractere(x,y,z):\n",
    "  return  len(x)+len(y)+len(z)"
   ]
  },
  {
   "cell_type": "code",
   "execution_count": 21,
   "id": "215c1b87",
   "metadata": {},
   "outputs": [
    {
     "data": {
      "text/plain": [
       "16"
      ]
     },
     "execution_count": 21,
     "metadata": {},
     "output_type": "execute_result"
    }
   ],
   "source": [
    "nr_caractere(\"moaga\",\"roxana\",\"elena\")"
   ]
  },
  {
   "cell_type": "code",
   "execution_count": 22,
   "id": "0fb96ee3",
   "metadata": {},
   "outputs": [],
   "source": [
    "#4. Functie care returneaza aria dreptunghiului"
   ]
  },
  {
   "cell_type": "code",
   "execution_count": 23,
   "id": "4cc76df4",
   "metadata": {},
   "outputs": [],
   "source": [
    "def aria_dreptunghi(x,y):\n",
    "    return x*y"
   ]
  },
  {
   "cell_type": "code",
   "execution_count": 24,
   "id": "f9723a7c",
   "metadata": {},
   "outputs": [
    {
     "data": {
      "text/plain": [
       "54"
      ]
     },
     "execution_count": 24,
     "metadata": {},
     "output_type": "execute_result"
    }
   ],
   "source": [
    "aria_dreptunghi(6,9)"
   ]
  },
  {
   "cell_type": "code",
   "execution_count": 25,
   "id": "591eefd2",
   "metadata": {},
   "outputs": [],
   "source": [
    "#5. Functie care returneaza aria cercului"
   ]
  },
  {
   "cell_type": "code",
   "execution_count": 32,
   "id": "6e127d54",
   "metadata": {},
   "outputs": [],
   "source": [
    "def aria_cerc(r):\n",
    "    return 3.14*r**2"
   ]
  },
  {
   "cell_type": "code",
   "execution_count": 33,
   "id": "203af41d",
   "metadata": {},
   "outputs": [
    {
     "data": {
      "text/plain": [
       "153.86"
      ]
     },
     "execution_count": 33,
     "metadata": {},
     "output_type": "execute_result"
    }
   ],
   "source": [
    "aria_cerc(7)"
   ]
  },
  {
   "cell_type": "code",
   "execution_count": 34,
   "id": "5b349449",
   "metadata": {},
   "outputs": [],
   "source": [
    "#6. Functie care returneaza True daca un caracter x se gaseste intr-un string dat. Fasle daca nu"
   ]
  },
  {
   "cell_type": "code",
   "execution_count": 35,
   "id": "d5b5b396",
   "metadata": {},
   "outputs": [],
   "source": [
    "def gasesc(string, caracter):\n",
    "    if caracter in string:\n",
    "        print(\"TRUE\");\n",
    "    else:\n",
    "        print(\"FALSE\")"
   ]
  },
  {
   "cell_type": "code",
   "execution_count": 36,
   "id": "f24f1850",
   "metadata": {},
   "outputs": [
    {
     "name": "stdout",
     "output_type": "stream",
     "text": [
      "TRUE\n"
     ]
    }
   ],
   "source": [
    "gasesc(\"adevarat\",\"a\")"
   ]
  },
  {
   "cell_type": "code",
   "execution_count": 38,
   "id": "9ecbd9ae",
   "metadata": {},
   "outputs": [
    {
     "name": "stdout",
     "output_type": "stream",
     "text": [
      "FALSE\n"
     ]
    }
   ],
   "source": [
    "gasesc(\"avshdmrhfdfebd\",\"j\")"
   ]
  },
  {
   "cell_type": "code",
   "execution_count": 39,
   "id": "bbede3cd",
   "metadata": {},
   "outputs": [],
   "source": [
    "#7. Functie fara return, primeste un string si printeaza pe ecran:\n",
    "#-\tNr de caractere lower case este x\n",
    "#-\tNr de caractere upper case exte y \n"
   ]
  },
  {
   "cell_type": "code",
   "execution_count": 55,
   "id": "cbe367fd",
   "metadata": {},
   "outputs": [],
   "source": [
    "def nr_caractere():\n",
    "    string=input(\"Enter string:\");\n",
    "    count1=0;\n",
    "    count2=0;\n",
    "    for i in string:\n",
    "      if(i.islower()):\n",
    "            count1=count1+1\n",
    "      elif(i.isupper()):\n",
    "            count2=count2+1\n",
    "    print(f\"Nr de caractere lower case este {count1}\");\n",
    "    print(f\"Nr de caractere lower case este {count2}\");"
   ]
  },
  {
   "cell_type": "code",
   "execution_count": 56,
   "id": "d62162e1",
   "metadata": {},
   "outputs": [
    {
     "name": "stdout",
     "output_type": "stream",
     "text": [
      "Enter string:AAAAeeeeeeeee\n",
      "Nr de caractere lower case este 9\n",
      "Nr de caractere lower case este 4\n"
     ]
    }
   ],
   "source": [
    "nr_caractere()\n"
   ]
  },
  {
   "cell_type": "code",
   "execution_count": 58,
   "id": "dfdbb295",
   "metadata": {},
   "outputs": [
    {
     "name": "stdout",
     "output_type": "stream",
     "text": [
      "Enter string:AbCd\n",
      "Nr de caractere lower case este 2\n",
      "Nr de caractere lower case este 2\n"
     ]
    }
   ],
   "source": [
    "nr_caractere()"
   ]
  },
  {
   "cell_type": "code",
   "execution_count": 59,
   "id": "d35e984e",
   "metadata": {},
   "outputs": [],
   "source": [
    "#8. Functie care primeste o LISTA de numere si returneaza o LISTA doar cu numerele pozitive"
   ]
  },
  {
   "cell_type": "code",
   "execution_count": 89,
   "id": "46d20612",
   "metadata": {},
   "outputs": [],
   "source": [
    "lista=[];\n",
    "def lista_pozitive(listanr):\n",
    "    for x in listanr:\n",
    "        if x>0:\n",
    "          lista.append(x)\n",
    "    print(lista)"
   ]
  },
  {
   "cell_type": "code",
   "execution_count": 90,
   "id": "9002d0d8",
   "metadata": {},
   "outputs": [
    {
     "name": "stdout",
     "output_type": "stream",
     "text": [
      "[4, 5, 6, 7, 87, 45, 23]\n"
     ]
    }
   ],
   "source": [
    "i=[4,5,6,7,-1,-3,-449584,-5,87,45,23];\n",
    "lista_pozitive(i)"
   ]
  },
  {
   "cell_type": "code",
   "execution_count": 91,
   "id": "66a6ca0e",
   "metadata": {},
   "outputs": [],
   "source": [
    "#9. Functie care nu returneaza nimic. Primeste 2 numere si PRINTEAZA\n",
    "#-\tPrimul numar x este mai mare decat al doilea nr y\n",
    "#-\tAl doilea nr y este mai mare decat primul nr x\n",
    "#-\tNumerele sunt egale. \n"
   ]
  },
  {
   "cell_type": "code",
   "execution_count": 97,
   "id": "3d9f563f",
   "metadata": {},
   "outputs": [],
   "source": [
    "def functie(x,y):\n",
    "    if x>y:\n",
    "        print(f\"Primul numar {x} este mai mare decat al doilea nr {y}\");\n",
    "    elif x<y:\n",
    "        print(f\"Al doilea numar {y} este mai mare decat primul nr {x}\");\n",
    "    else:\n",
    "        print(\"Numerele sunt egale\");"
   ]
  },
  {
   "cell_type": "code",
   "execution_count": 98,
   "id": "0eb8a9d5",
   "metadata": {},
   "outputs": [
    {
     "name": "stdout",
     "output_type": "stream",
     "text": [
      "Numerele sunt egale\n"
     ]
    }
   ],
   "source": [
    "functie(5,5)"
   ]
  },
  {
   "cell_type": "code",
   "execution_count": 99,
   "id": "31d9153d",
   "metadata": {},
   "outputs": [
    {
     "name": "stdout",
     "output_type": "stream",
     "text": [
      "Al doilea numar 89 este mai mare decat primul nr 5\n"
     ]
    }
   ],
   "source": [
    "functie(5,89)"
   ]
  },
  {
   "cell_type": "code",
   "execution_count": 100,
   "id": "59325039",
   "metadata": {},
   "outputs": [],
   "source": [
    "#10. Functie care primeste un numar si un set de numere.\n",
    "#Printeaza ‘am adaugat numarul nou in set’ + returneaza True\n",
    "#Sau Printeaza ‘nu am adaugat numarul in set. Acesta exista deja’ + returneaza False\n"
   ]
  },
  {
   "cell_type": "code",
   "execution_count": 22,
   "id": "4e4e4147",
   "metadata": {},
   "outputs": [],
   "source": [
    "def fct10(x1,x2):\n",
    "    for elem in x2:\n",
    "        if elem==x1:\n",
    "            print(\"nu am adaugat numarul in set\");\n",
    "        else:\n",
    "            x2.add(x1);\n",
    "            print(\"am adaugat numarul nou in set\");\n",
    "            print(x2);\n",
    "            "
   ]
  },
  {
   "cell_type": "code",
   "execution_count": 23,
   "id": "1786a69c",
   "metadata": {},
   "outputs": [
    {
     "name": "stdout",
     "output_type": "stream",
     "text": [
      "am adaugat numarul nou in set\n",
      "{35, 45, 78, 6}\n"
     ]
    },
    {
     "ename": "RuntimeError",
     "evalue": "Set changed size during iteration",
     "output_type": "error",
     "traceback": [
      "\u001b[1;31m---------------------------------------------------------------------------\u001b[0m",
      "\u001b[1;31mRuntimeError\u001b[0m                              Traceback (most recent call last)",
      "Cell \u001b[1;32mIn [23], line 3\u001b[0m\n\u001b[0;32m      1\u001b[0m x\u001b[38;5;241m=\u001b[39m\u001b[38;5;241m35\u001b[39m;\n\u001b[0;32m      2\u001b[0m y\u001b[38;5;241m=\u001b[39m{\u001b[38;5;241m45\u001b[39m,\u001b[38;5;241m6\u001b[39m,\u001b[38;5;241m78\u001b[39m};\n\u001b[1;32m----> 3\u001b[0m \u001b[43mfct10\u001b[49m\u001b[43m(\u001b[49m\u001b[43mx\u001b[49m\u001b[43m,\u001b[49m\u001b[43my\u001b[49m\u001b[43m)\u001b[49m\n",
      "Cell \u001b[1;32mIn [22], line 2\u001b[0m, in \u001b[0;36mfct10\u001b[1;34m(x1, x2)\u001b[0m\n\u001b[0;32m      1\u001b[0m \u001b[38;5;28;01mdef\u001b[39;00m \u001b[38;5;21mfct10\u001b[39m(x1,x2):\n\u001b[1;32m----> 2\u001b[0m     \u001b[38;5;28;01mfor\u001b[39;00m elem \u001b[38;5;129;01min\u001b[39;00m x2:\n\u001b[0;32m      3\u001b[0m         \u001b[38;5;28;01mif\u001b[39;00m elem\u001b[38;5;241m==\u001b[39mx1:\n\u001b[0;32m      4\u001b[0m             \u001b[38;5;28mprint\u001b[39m(\u001b[38;5;124m\"\u001b[39m\u001b[38;5;124mnu am adaugat numarul in set\u001b[39m\u001b[38;5;124m\"\u001b[39m);\n",
      "\u001b[1;31mRuntimeError\u001b[0m: Set changed size during iteration"
     ]
    }
   ],
   "source": [
    "x=35;\n",
    "y={45,6,78};\n",
    "fct10(x,y)"
   ]
  },
  {
   "cell_type": "code",
   "execution_count": 24,
   "id": "80497a5c",
   "metadata": {},
   "outputs": [
    {
     "name": "stdout",
     "output_type": "stream",
     "text": [
      "am adaugat numarul nou in set\n",
      "{5, 6, 7, 87, 45, 78}\n"
     ]
    },
    {
     "ename": "RuntimeError",
     "evalue": "Set changed size during iteration",
     "output_type": "error",
     "traceback": [
      "\u001b[1;31m---------------------------------------------------------------------------\u001b[0m",
      "\u001b[1;31mRuntimeError\u001b[0m                              Traceback (most recent call last)",
      "Cell \u001b[1;32mIn [24], line 3\u001b[0m\n\u001b[0;32m      1\u001b[0m x\u001b[38;5;241m=\u001b[39m\u001b[38;5;241m87\u001b[39m;\n\u001b[0;32m      2\u001b[0m y\u001b[38;5;241m=\u001b[39m{\u001b[38;5;241m45\u001b[39m,\u001b[38;5;241m6\u001b[39m,\u001b[38;5;241m78\u001b[39m,\u001b[38;5;241m5\u001b[39m,\u001b[38;5;241m7\u001b[39m};\n\u001b[1;32m----> 3\u001b[0m \u001b[43mfct10\u001b[49m\u001b[43m(\u001b[49m\u001b[43mx\u001b[49m\u001b[43m,\u001b[49m\u001b[43my\u001b[49m\u001b[43m)\u001b[49m\n",
      "Cell \u001b[1;32mIn [22], line 2\u001b[0m, in \u001b[0;36mfct10\u001b[1;34m(x1, x2)\u001b[0m\n\u001b[0;32m      1\u001b[0m \u001b[38;5;28;01mdef\u001b[39;00m \u001b[38;5;21mfct10\u001b[39m(x1,x2):\n\u001b[1;32m----> 2\u001b[0m     \u001b[38;5;28;01mfor\u001b[39;00m elem \u001b[38;5;129;01min\u001b[39;00m x2:\n\u001b[0;32m      3\u001b[0m         \u001b[38;5;28;01mif\u001b[39;00m elem\u001b[38;5;241m==\u001b[39mx1:\n\u001b[0;32m      4\u001b[0m             \u001b[38;5;28mprint\u001b[39m(\u001b[38;5;124m\"\u001b[39m\u001b[38;5;124mnu am adaugat numarul in set\u001b[39m\u001b[38;5;124m\"\u001b[39m);\n",
      "\u001b[1;31mRuntimeError\u001b[0m: Set changed size during iteration"
     ]
    }
   ],
   "source": [
    "x=87;\n",
    "y={45,6,78,5,7};\n",
    "fct10(x,y)"
   ]
  },
  {
   "cell_type": "code",
   "execution_count": 25,
   "id": "d3803342",
   "metadata": {},
   "outputs": [
    {
     "name": "stdout",
     "output_type": "stream",
     "text": [
      "nu am adaugat numarul in set\n",
      "am adaugat numarul nou in set\n",
      "{5, 6, 7, 45, 78}\n",
      "am adaugat numarul nou in set\n",
      "{5, 6, 7, 45, 78}\n",
      "am adaugat numarul nou in set\n",
      "{5, 6, 7, 45, 78}\n",
      "am adaugat numarul nou in set\n",
      "{5, 6, 7, 45, 78}\n"
     ]
    }
   ],
   "source": [
    "x=5;\n",
    "y={45,6,78,5,7};\n",
    "fct10(x,y)"
   ]
  },
  {
   "cell_type": "code",
   "execution_count": 26,
   "id": "5bf43174",
   "metadata": {},
   "outputs": [],
   "source": [
    "#11. Functie care primeste o luna din an si returneaza cate zile are acea luna"
   ]
  },
  {
   "cell_type": "code",
   "execution_count": 29,
   "id": "e928f715",
   "metadata": {},
   "outputs": [],
   "source": [
    "def zile_luna(luna):\n",
    "    if luna in ['ianuarie','martie','mai','iulie','august','octombrie','decembrie']:\n",
    "        print(\"Luna are 31 zile:\");\n",
    "    else: \n",
    "        print('Luna are 30 zile')"
   ]
  },
  {
   "cell_type": "code",
   "execution_count": 31,
   "id": "36ba3d40",
   "metadata": {},
   "outputs": [
    {
     "name": "stdout",
     "output_type": "stream",
     "text": [
      "Luna are 31 zile:\n"
     ]
    }
   ],
   "source": [
    "zile_luna('martie')"
   ]
  },
  {
   "cell_type": "code",
   "execution_count": 32,
   "id": "92a2553c",
   "metadata": {},
   "outputs": [
    {
     "name": "stdout",
     "output_type": "stream",
     "text": [
      "Luna are 30 zile\n"
     ]
    }
   ],
   "source": [
    "zile_luna('aprilie')"
   ]
  },
  {
   "cell_type": "code",
   "execution_count": 33,
   "id": "1e006d8d",
   "metadata": {},
   "outputs": [],
   "source": [
    "#12. Functie calculator care sa returneze 4 valori \n",
    "#Suma, diferenta, inmultirea, impartirea a 2 numere\n"
   ]
  },
  {
   "cell_type": "code",
   "execution_count": 48,
   "id": "50aafc32",
   "metadata": {},
   "outputs": [],
   "source": [
    "def calculator(x,y):\n",
    "    return x+y, x-y,x*y,x/y;\n",
    "    "
   ]
  },
  {
   "cell_type": "code",
   "execution_count": 49,
   "id": "d7c2fc89",
   "metadata": {},
   "outputs": [
    {
     "data": {
      "text/plain": [
       "(11, -1, 30, 0.8333333333333334)"
      ]
     },
     "execution_count": 49,
     "metadata": {},
     "output_type": "execute_result"
    }
   ],
   "source": [
    "calculator(5,6)"
   ]
  },
  {
   "cell_type": "code",
   "execution_count": 50,
   "id": "b908e88b",
   "metadata": {},
   "outputs": [],
   "source": [
    "#In final vei putea face:\n",
    "#a, b, c, d = calculator(10, 2)\n",
    "#print(\"Suma: \", a)\n",
    "#print(\"Diferenta: \", b)\n",
    "#print(\"Inmultirea: \", c)\n",
    "#print(\"Impartirea: \", d)\n"
   ]
  },
  {
   "cell_type": "code",
   "execution_count": 46,
   "id": "23b7264e",
   "metadata": {},
   "outputs": [],
   "source": [
    "a, b, c, d = calculator(10, 2)"
   ]
  },
  {
   "cell_type": "code",
   "execution_count": 51,
   "id": "04f367d7",
   "metadata": {},
   "outputs": [
    {
     "name": "stdout",
     "output_type": "stream",
     "text": [
      "Suma: 12\n",
      "Diferenta: , 5.0\n",
      "Inmultirea:  8\n",
      "Impartirea:  20\n"
     ]
    }
   ],
   "source": [
    "print(f\"Suma: {a}\");\n",
    "print(f\"Diferenta: , {b}\");\n",
    "print(\"Inmultirea: \", c)\n",
    "print(\"Impartirea: \", d)"
   ]
  },
  {
   "cell_type": "code",
   "execution_count": 52,
   "id": "1d2d891d",
   "metadata": {},
   "outputs": [],
   "source": [
    "#13. Functie care primeste o lista de cifre (adica doar 0-9)\n",
    "#Ex: [1, 3, 1, 5, 9, 7, 7, 5, 5]\n",
    "#Returneaza un DICT care ne spune de cate ori apare fiecare cifra\n",
    "#=> dict {\n",
    "#0: 0\n",
    "#1 :2\n",
    "#2: 0\n",
    "#3: 1\n",
    "#4: 0\n",
    "#5: 3\n",
    "#6: 0\n",
    "#7: 2\n",
    "#8: 0\n",
    "#9: 1\n",
    "#}\n"
   ]
  },
  {
   "cell_type": "code",
   "execution_count": 53,
   "id": "64d3f39c",
   "metadata": {},
   "outputs": [],
   "source": [
    "#14. Functie care primeste 3 numere\n",
    "#Returneaza valoarea maxima dintre ele\n"
   ]
  },
  {
   "cell_type": "code",
   "execution_count": 69,
   "id": "371d5a5b",
   "metadata": {},
   "outputs": [],
   "source": [
    "def max(a,b,c):\n",
    "    if (a >= b) and (a >= c):\n",
    "        return a\n",
    "    elif (b >= a) and (b >= c):\n",
    "        return b\n",
    "    else:\n",
    "        return c\n",
    "        "
   ]
  },
  {
   "cell_type": "code",
   "execution_count": 70,
   "id": "83f55a14",
   "metadata": {},
   "outputs": [
    {
     "data": {
      "text/plain": [
       "7"
      ]
     },
     "execution_count": 70,
     "metadata": {},
     "output_type": "execute_result"
    }
   ],
   "source": [
    "max(5,6,7)"
   ]
  },
  {
   "cell_type": "code",
   "execution_count": 71,
   "id": "56bdea95",
   "metadata": {},
   "outputs": [
    {
     "data": {
      "text/plain": [
       "5"
      ]
     },
     "execution_count": 71,
     "metadata": {},
     "output_type": "execute_result"
    }
   ],
   "source": [
    "max(5,5,5)"
   ]
  },
  {
   "cell_type": "code",
   "execution_count": 72,
   "id": "ae9b63b6",
   "metadata": {},
   "outputs": [],
   "source": [
    "#15. Functie care sa primeasca un numar si sa retunreze suma tuturor numerelor de la 0 la acel numar\n",
    "#Ex: daca dam nr 3\n",
    "#Suma va fi 6 (0+1+2+3)\n"
   ]
  },
  {
   "cell_type": "code",
   "execution_count": 92,
   "id": "df5424fc",
   "metadata": {},
   "outputs": [],
   "source": [
    "def s(z):\n",
    "    suma=0;\n",
    "    for i in range(0,z+1):\n",
    "        suma=suma+i;\n",
    "    return suma;"
   ]
  },
  {
   "cell_type": "code",
   "execution_count": 93,
   "id": "d49dc540",
   "metadata": {},
   "outputs": [
    {
     "data": {
      "text/plain": [
       "6"
      ]
     },
     "execution_count": 93,
     "metadata": {},
     "output_type": "execute_result"
    }
   ],
   "source": [
    "s(3)"
   ]
  },
  {
   "cell_type": "code",
   "execution_count": 94,
   "id": "196a1012",
   "metadata": {},
   "outputs": [
    {
     "data": {
      "text/plain": [
       "3"
      ]
     },
     "execution_count": 94,
     "metadata": {},
     "output_type": "execute_result"
    }
   ],
   "source": [
    "s(2)"
   ]
  },
  {
   "cell_type": "code",
   "execution_count": 95,
   "id": "19b147e5",
   "metadata": {},
   "outputs": [
    {
     "data": {
      "text/plain": [
       "15"
      ]
     },
     "execution_count": 95,
     "metadata": {},
     "output_type": "execute_result"
    }
   ],
   "source": [
    "s(5)"
   ]
  },
  {
   "cell_type": "code",
   "execution_count": 96,
   "id": "189a6e51",
   "metadata": {},
   "outputs": [],
   "source": [
    "#16. Functie care nu primeste argumente, dar cere un input de la tastatura si va printa\n",
    "#“Numarul ales este pozitiv” sau “Numarul ales este negativ” sau “Numarul ales este 0”, dupa caz, iar daca nu introducem un numar, sa se afiseze “Nu ati ales un numar valid”; la final sa se afiseze “Sfarsitul functiei” indiferent de caz.\n"
   ]
  },
  {
   "cell_type": "code",
   "execution_count": 114,
   "id": "9bb09b62",
   "metadata": {},
   "outputs": [],
   "source": [
    "def nr():\n",
    "    x=int(input(\"Numarul ales este: \"));\n",
    "    if x>0:\n",
    "        print(\"Numarul este pozitiv\");\n",
    "    elif x<0:\n",
    "        print(\"Numarul este negativ\");\n",
    "    elif x==0:    \n",
    "        print(\"Numarul ales este 0\");\n",
    "    else:\n",
    "        print(\"Nu ati ales un numar valid\");\n",
    "    print(\"Sfarsitul functiei\")            \n",
    "            "
   ]
  },
  {
   "cell_type": "code",
   "execution_count": 115,
   "id": "609aaf32",
   "metadata": {},
   "outputs": [
    {
     "name": "stdout",
     "output_type": "stream",
     "text": [
      "Numarul ales este: 34\n",
      "Numarul este pozitiv\n",
      "Sfarsitul functiei\n"
     ]
    }
   ],
   "source": [
    "nr()"
   ]
  },
  {
   "cell_type": "code",
   "execution_count": 116,
   "id": "a264de05",
   "metadata": {},
   "outputs": [],
   "source": [
    "#17. Functie care primesete 2 liste de numere (numerele pot fi dublate)\n",
    "#Returnati numerele comune \n",
    "\n",
    "#Ex:\n",
    "#list1 = [1, 1, 2, 3]\n",
    "#list2 = [2, 2, 3, 4]\n",
    "#Raspuns: {2, 3}\n"
   ]
  },
  {
   "cell_type": "code",
   "execution_count": 118,
   "id": "755feb6a",
   "metadata": {},
   "outputs": [],
   "source": [
    "def intersectie(x,y):\n",
    "    return x&y;"
   ]
  },
  {
   "cell_type": "code",
   "execution_count": 123,
   "id": "2d328f46",
   "metadata": {},
   "outputs": [
    {
     "data": {
      "text/plain": [
       "{2, 3}"
      ]
     },
     "execution_count": 123,
     "metadata": {},
     "output_type": "execute_result"
    }
   ],
   "source": [
    "list1 = {1, 1, 2, 3}\n",
    "list2 = {2, 2, 3, 4};\n",
    "intersectie(list1,list2)"
   ]
  },
  {
   "cell_type": "code",
   "execution_count": 124,
   "id": "0aa8e4cd",
   "metadata": {},
   "outputs": [
    {
     "ename": "TypeError",
     "evalue": "unsupported operand type(s) for &: 'list' and 'list'",
     "output_type": "error",
     "traceback": [
      "\u001b[1;31m---------------------------------------------------------------------------\u001b[0m",
      "\u001b[1;31mTypeError\u001b[0m                                 Traceback (most recent call last)",
      "Cell \u001b[1;32mIn [124], line 3\u001b[0m\n\u001b[0;32m      1\u001b[0m list1 \u001b[38;5;241m=\u001b[39m [\u001b[38;5;241m1\u001b[39m, \u001b[38;5;241m1\u001b[39m, \u001b[38;5;241m2\u001b[39m, \u001b[38;5;241m3\u001b[39m];\n\u001b[0;32m      2\u001b[0m list2 \u001b[38;5;241m=\u001b[39m [\u001b[38;5;241m2\u001b[39m, \u001b[38;5;241m2\u001b[39m, \u001b[38;5;241m3\u001b[39m, \u001b[38;5;241m4\u001b[39m];\n\u001b[1;32m----> 3\u001b[0m \u001b[43mintersectie\u001b[49m\u001b[43m(\u001b[49m\u001b[43mlist1\u001b[49m\u001b[43m,\u001b[49m\u001b[43mlist2\u001b[49m\u001b[43m)\u001b[49m\n",
      "Cell \u001b[1;32mIn [118], line 2\u001b[0m, in \u001b[0;36mintersectie\u001b[1;34m(x, y)\u001b[0m\n\u001b[0;32m      1\u001b[0m \u001b[38;5;28;01mdef\u001b[39;00m \u001b[38;5;21mintersectie\u001b[39m(x,y):\n\u001b[1;32m----> 2\u001b[0m     \u001b[38;5;28;01mreturn\u001b[39;00m \u001b[43mx\u001b[49m\u001b[38;5;241;43m&\u001b[39;49m\u001b[43my\u001b[49m\n",
      "\u001b[1;31mTypeError\u001b[0m: unsupported operand type(s) for &: 'list' and 'list'"
     ]
    }
   ],
   "source": [
    "list1 = [1, 1, 2, 3];\n",
    "list2 = [2, 2, 3, 4];\n",
    "intersectie(list1,list2)"
   ]
  },
  {
   "cell_type": "code",
   "execution_count": 125,
   "id": "9765bac2",
   "metadata": {},
   "outputs": [],
   "source": [
    "#18. Functie care sa aplice o reducere de pret. Daca apelul functiei nu primeste valoarea reducerii, sa ia valoarea default 10%.\n",
    "#Daca produsul costa 100 lei si aplicam reducere de 10%\n",
    "#Pretul va fi 90\n",
    "#Tratati cazurile in care reducerea e invalida. De ex o reducere de 110% e invalida#\n",
    "\n"
   ]
  },
  {
   "cell_type": "code",
   "execution_count": 138,
   "id": "314a7343",
   "metadata": {},
   "outputs": [],
   "source": [
    "def discount(pret,r=\"10\"):\n",
    "    if r<=100:\n",
    "        pret=pret-pret*r/100;\n",
    "        print(pret)\n",
    "    else:\n",
    "        print(\"Reducerea este invalida\")\n",
    "    "
   ]
  },
  {
   "cell_type": "code",
   "execution_count": 142,
   "id": "cf2a456c",
   "metadata": {},
   "outputs": [
    {
     "name": "stdout",
     "output_type": "stream",
     "text": [
      "90.0\n"
     ]
    }
   ],
   "source": [
    "discount(100,10)"
   ]
  },
  {
   "cell_type": "code",
   "execution_count": null,
   "id": "04816929",
   "metadata": {},
   "outputs": [],
   "source": []
  }
 ],
 "metadata": {
  "kernelspec": {
   "display_name": "Python 3 (ipykernel)",
   "language": "python",
   "name": "python3"
  },
  "language_info": {
   "codemirror_mode": {
    "name": "ipython",
    "version": 3
   },
   "file_extension": ".py",
   "mimetype": "text/x-python",
   "name": "python",
   "nbconvert_exporter": "python",
   "pygments_lexer": "ipython3",
   "version": "3.10.7"
  }
 },
 "nbformat": 4,
 "nbformat_minor": 5
}
