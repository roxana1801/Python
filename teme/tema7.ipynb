{
 "cells": [
  {
   "cell_type": "code",
   "execution_count": 1,
   "id": "18fa8d7f",
   "metadata": {},
   "outputs": [],
   "source": [
    "#ABSTRACTION \n",
    "#Clasa abstracta FormaGeometrica\n",
    "#Contine un field PI=3.14\n",
    "#Contine o metoda abstracta aria (optional)\n",
    "#Contine o metoda a clasei descrie() - aceasta printeaza pe ecran ‘Cel mai probabil am colturi’\n"
   ]
  },
  {
   "cell_type": "code",
   "execution_count": 5,
   "id": "dcb69487",
   "metadata": {},
   "outputs": [],
   "source": [
    "from abc import ABC, abstractmethod\n",
    "class FormaGeometrica:\n",
    "    PI=3.14;\n",
    "    @abstractmethod\n",
    "    def arie(self):\n",
    "        pass\n",
    "    def descrie(self):\n",
    "        print(\"cel mai probabil am colturi\");\n",
    "        "
   ]
  },
  {
   "cell_type": "code",
   "execution_count": 6,
   "id": "9ee97494",
   "metadata": {},
   "outputs": [],
   "source": [
    "#INHERITANCE\n",
    "#Clasa Patrat - mosteneste FormaGeometrica\n",
    "#constructor pt latura\n",
    "#ENCAPSULATION\n",
    "#latura este proprietate privata\n",
    "#Implementati getter, setter, deleter pt latura\n",
    "#Implementati metoda ceruta de interfata (optional, doar daca ati ales sa implementati metoda abstracta aria)\n"
   ]
  },
  {
   "cell_type": "code",
   "execution_count": 8,
   "id": "dd460936",
   "metadata": {},
   "outputs": [],
   "source": [
    "class Patrat(FormaGeometrica):\n",
    "    def __init__(self,latura):\n",
    "        super().__init__()\n",
    "        self.__latura = latura\n",
    "        print(f'In initul clasei patrat, pi= {self.pi}')\n",
    "    def arie(self):\n",
    "        return self.__latura**2\n",
    "    @property\n",
    "    def latura(self):\n",
    "        return self.__latura\n",
    "    def set_latura(self, new_latura):\n",
    "        self.__latura = new_latura  \n",
    "    @latura.getter\n",
    "    def get_latura(self):\n",
    "        return self.__latura\n",
    "    @latura.deleter\n",
    "    def del_latura(self):\n",
    "        self.__latura = None\n",
    "        print('Am sters latura')"
   ]
  },
  {
   "cell_type": "code",
   "execution_count": 9,
   "id": "25310346",
   "metadata": {},
   "outputs": [],
   "source": [
    "#Clasa Cerc - mosteneste FormaGeometrica\n",
    "#constructor pt raza\n",
    "#raza este proprietate privata\n",
    "#Implementati getter, setter, deleter pt raza\n",
    "#Implementati metoda ceruta de interfata - in calcul folositi field PI mostenit din clasa parinte (optional, doar daca ati ales sa implementati metoda abstracta aria)\n"
   ]
  },
  {
   "cell_type": "code",
   "execution_count": 16,
   "id": "270d55bc",
   "metadata": {},
   "outputs": [],
   "source": [
    "class Cerc(FormaGeometrica):\n",
    "    def __init__(self,raza):\n",
    "        super().__raza=raza\n",
    "    def arie(self):\n",
    "        return self.pi*(self.__pi**2)\n",
    "    @property\n",
    "    def raza(self):\n",
    "        return self.__raza;\n",
    "    @raza.setter\n",
    "    def set_raza(self,new_raza):\n",
    "        self.__raza = new_raza\n",
    "    @raza.getter\n",
    "    def get_raza(self):\n",
    "        return self.__raza\n",
    "    @raza.deleter\n",
    "    def del_raza(self):\n",
    "        self.__raza = None\n",
    "        print('Am sters raza')\n",
    "    def descriere(self):\n",
    "        print('Eu nu am colturi')\n",
    "\n",
    "def descriere_interfata(obj):\n",
    "    obj.descriere()\n"
   ]
  },
  {
   "cell_type": "code",
   "execution_count": 23,
   "id": "3d11c6df",
   "metadata": {},
   "outputs": [
    {
     "name": "stdout",
     "output_type": "stream",
     "text": [
      "In initul clasei patrat, pi= 3.14\n",
      "Cel mai probabil am colturi\n",
      "Cel mai probabil am colturi\n",
      "Latura este 8\n",
      "Aria este 64\n",
      "Noua latura este 5\n",
      "Am sters latura\n"
     ]
    }
   ],
   "source": [
    "from abc import ABC, abstractmethod\n",
    "\n",
    "class FormaGeometrica(ABC):\n",
    "    # pi = 3.14\n",
    "    def __init__(self):\n",
    "        self.pi = 3.14\n",
    "\n",
    "    @abstractmethod\n",
    "    def arie(self):\n",
    "        pass\n",
    "\n",
    "\n",
    "    def descriere(self):\n",
    "        print('Cel mai probabil am colturi')\n",
    "\n",
    "\n",
    "\n",
    "class Patrat(FormaGeometrica):\n",
    "    def __init__(self,latura):\n",
    "        super().__init__()\n",
    "        self.__latura = latura\n",
    "        print(f'In initul clasei patrat, pi= {self.pi}')\n",
    "\n",
    "    def arie(self):\n",
    "        return self.__latura**2\n",
    "\n",
    "    @property\n",
    "    def latura(self):\n",
    "        return self.__latura\n",
    "\n",
    "\n",
    "    # @latura.setter\n",
    "    def set_latura(self, new_latura):\n",
    "        self.__latura = new_latura\n",
    "\n",
    "    @latura.getter\n",
    "    def get_latura(self):\n",
    "        return self.__latura\n",
    "\n",
    "    @latura.deleter\n",
    "    def del_latura(self):\n",
    "        self.__latura = None\n",
    "        print('Am sters latura')\n",
    "\n",
    "\n",
    "\n",
    "class Cerc(FormaGeometrica):\n",
    "    def __init__(self, raza):\n",
    "        super().__init__()\n",
    "        self.__raza = raza\n",
    "    def arie(self):\n",
    "        return self.pi*(self.__raza**2)\n",
    "\n",
    "    @property\n",
    "    def raza(self):\n",
    "        return self.__raza\n",
    "\n",
    "    @raza.setter\n",
    "    def set_raza(self, new_raza):\n",
    "        self.__raza = new_raza\n",
    "\n",
    "    @raza.getter\n",
    "    def get_raza(self):\n",
    "        return self.__raza\n",
    "\n",
    "    @raza.deleter\n",
    "    def del_raza(self):\n",
    "        self.__raza = None\n",
    "        print('Am sters raza')\n",
    "\n",
    "    def descriere(self):\n",
    "        print('Eu nu am colturi')\n",
    "\n",
    "def descriere_interfata(obj):\n",
    "    obj.descriere()\n",
    "\n",
    "x = Patrat(8)\n",
    "x.descriere()\n",
    "descriere_interfata(x)\n",
    "\n",
    "print(f'Latura este {x.latura}')\n",
    "print(f'Aria este {x.arie()}')\n",
    "x.set_latura(5)\n",
    "print(f'Noua latura este {x.get_latura}')\n",
    "del x.del_latura\n"
   ]
  },
  {
   "cell_type": "code",
   "execution_count": 25,
   "id": "585d2744",
   "metadata": {},
   "outputs": [
    {
     "name": "stdout",
     "output_type": "stream",
     "text": [
      "Eu nu am colturi\n",
      "Eu nu am colturi\n",
      "Raza este 9\n",
      "Aria este 254.34\n",
      "Noua raza este 9\n",
      "Am sters raza\n"
     ]
    }
   ],
   "source": [
    "c = Cerc(9)\n",
    "c.descriere()\n",
    "descriere_interfata(c)\n",
    "print(f'Raza este {c.raza}')\n",
    "print(f'Aria este {c.arie()}')\n",
    "c.set_latura=8\n",
    "print(f'Noua raza este {c.get_raza}')\n",
    "del c.del_raza"
   ]
  },
  {
   "cell_type": "code",
   "execution_count": 27,
   "id": "01876e14",
   "metadata": {},
   "outputs": [],
   "source": [
    "# Creati o clasa Student cu 2 atribute:\n",
    "# name: str, numele studentului\n",
    "# grade: int, nota acestuia\n",
    "# Nota nu trebuie sa fie primita neaparat la initializare si trebuie sa nu poata fi accesata din afara clasei. \n",
    "# a) Scrieti 2 functii pentru nota: get_grade care sa returneze nota studentului si set_grade care sa ii modifice nota.\n",
    "# Asigurati`va ca nota e corecta, in caz contrar aruncati o exceptie custom (clasa) cu un mesaj relevant \n",
    "# - probabil va trebui sa Google-uiti putin pt exceptie :)\n",
    "# b) Scrieti o functie care sa descrie elevul: \"The student`s name is .... and has the grade ...\" si permiteti afisarea \n",
    "# descrierii prin intermediul functiei print \n",
    "# c) Testati cele 3 functii creandu-va un student caruia sa ii dati nota 7, sa ii afisati detaliile, dupa care\n",
    "# sa ii modificati nota in 10 si sa o afisati, iar ulterior sa o modificati in 12 pt a testa exceptia.\n",
    "\n",
    "\n"
   ]
  },
  {
   "cell_type": "code",
   "execution_count": 29,
   "id": "2fb25d78",
   "metadata": {},
   "outputs": [],
   "source": [
    "class Student:\n",
    "    def __init__(self, name, grade=None):\n",
    "        self.name = name\n",
    "        self.set_grade(grade)\n",
    "    def set_grade(self, new_grade):\n",
    "        if new_grade is not None:\n",
    "            try:\n",
    "                new_grade = int(round(new_grade))\n",
    "            except TypeError:\n",
    "                raise TypeError(f\"The given grade ({new_grade}) is not a number!\")\n",
    "            else:\n",
    "                if new_grade not in range(1,11):\n",
    "                    raise WrongGradeException(f\"The given grade ({new_grade}) is not valid!\")\n",
    "                else:\n",
    "                    self.__grade = new_grade\n",
    "        else:\n",
    "            self.__grade = None\n",
    "\n",
    "    def get_grade(self):\n",
    "        return self.__grade\n",
    "    \n",
    "    def __str__(self):\n",
    "        return f\"The student`s name is {self.name} and has the grade {self.get_grade()}\"\n",
    "    \n",
    "    def is_passing_grade(self):\n",
    "        return self.get_grade() >= 5\n",
    "\n"
   ]
  },
  {
   "cell_type": "code",
   "execution_count": 34,
   "id": "4bf1dc65",
   "metadata": {},
   "outputs": [
    {
     "name": "stdout",
     "output_type": "stream",
     "text": [
      "The student`s name is andrei and has the grade 7\n",
      "8\n",
      "5\n"
     ]
    }
   ],
   "source": [
    "my_student = Student(\"andrei\", 7)\n",
    "print(my_student)\n",
    "my_student.set_grade(8)\n",
    "print(my_student.get_grade())\n",
    "my_student.set_grade(5)\n",
    "print(my_student.get_grade())"
   ]
  },
  {
   "cell_type": "code",
   "execution_count": null,
   "id": "669455a1",
   "metadata": {},
   "outputs": [],
   "source": []
  }
 ],
 "metadata": {
  "kernelspec": {
   "display_name": "Python 3 (ipykernel)",
   "language": "python",
   "name": "python3"
  },
  "language_info": {
   "codemirror_mode": {
    "name": "ipython",
    "version": 3
   },
   "file_extension": ".py",
   "mimetype": "text/x-python",
   "name": "python",
   "nbconvert_exporter": "python",
   "pygments_lexer": "ipython3",
   "version": "3.10.7"
  }
 },
 "nbformat": 4,
 "nbformat_minor": 5
}
